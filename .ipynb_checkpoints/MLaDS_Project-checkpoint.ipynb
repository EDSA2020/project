{
 "cells": [
  {
   "cell_type": "markdown",
   "metadata": {},
   "source": [
    "## Machine Learning and Data Science Project\n",
    "\n",
    "#### Students:  \n",
    "m20190784 - **Benedita Pinto Nunes**    \n",
    "m20191416 - **Diogo Rodrigues Silva**                      \n",
    "m20191429 - **Miguel Sena e Silva**                \n",
    "\n",
    "#### Database  \n",
    "***Group33_LaGoste_Campaign.xlsx*** \n",
    "\n",
    "retrieved from  \n",
    "http://elearning.novaims.unl.pt/moodle/pluginfile.php?file=%2F62270%2Fmod_folder%2Fcontent%2F0%2F201920_Group_Datasets.zip&forcedownload=1  \n",
    "\n",
    "at 2020/04/01."
   ]
  },
  {
   "cell_type": "markdown",
   "metadata": {},
   "source": [
    "#### Imports for this project"
   ]
  },
  {
   "cell_type": "code",
   "execution_count": null,
   "metadata": {},
   "outputs": [],
   "source": [
    "import numpy as np\n",
    "import pandas as pd"
   ]
  },
  {
   "cell_type": "markdown",
   "metadata": {},
   "source": [
    "#### Obtaining and pre-processing data"
   ]
  },
  {
   "cell_type": "code",
   "execution_count": null,
   "metadata": {},
   "outputs": [],
   "source": [
    "# Obtaining and understanding data\n",
    "g33 = pd.read_excel('Group33_LaGoste_Campaign.xlsx', index_col=0)\n",
    "g33.head()\n"
   ]
  },
  {
   "cell_type": "code",
   "execution_count": null,
   "metadata": {},
   "outputs": [],
   "source": [
    "# Column cleanup - all lower letters\n",
    "print('Prior colunm names: \\n',g33.columns)\n",
    "print()\n",
    "g33.columns = [col.lower() for col in g33]\n",
    "print('Current colunm names: \\n',g33.columns)"
   ]
  },
  {
   "cell_type": "code",
   "execution_count": null,
   "metadata": {},
   "outputs": [],
   "source": [
    "print('Info for g33:\\n')\n",
    "g33.info()"
   ]
  },
  {
   "cell_type": "code",
   "execution_count": null,
   "metadata": {},
   "outputs": [],
   "source": [
    "# look for duplicate data\n",
    "print('Prior shape:\\n',g33.shape)\n",
    "print()\n",
    "g33.drop_duplicates(inplace= True)\n",
    "print('Current shape:\\n',g33.shape) \n",
    "\n",
    "print('\\nno duplicates found...')"
   ]
  },
  {
   "cell_type": "code",
   "execution_count": null,
   "metadata": {},
   "outputs": [],
   "source": [
    "# look for missing values\n",
    "print('Columns with missing values:\\n',g33.columns[g33.isnull().any()])\n",
    "g33.isnull().sum()"
   ]
  },
  {
   "cell_type": "code",
   "execution_count": null,
   "metadata": {},
   "outputs": [],
   "source": [
    "# parsing income by education category\n",
    "pv_inc2edu = g33[['income', 'education']].groupby(['education'])\n",
    "pv_inc2edu.describe()"
   ]
  },
  {
   "cell_type": "code",
   "execution_count": null,
   "metadata": {
    "scrolled": true
   },
   "outputs": [],
   "source": [
    "# Defining median income by education category\n",
    "_income = pv_inc2edu.apply(np.nanmedian)\n",
    "_income"
   ]
  },
  {
   "cell_type": "code",
   "execution_count": null,
   "metadata": {},
   "outputs": [],
   "source": [
    "g33[g33['income'].isnull()].info()"
   ]
  },
  {
   "cell_type": "code",
   "execution_count": null,
   "metadata": {},
   "outputs": [],
   "source": [
    "# replacing income NaNs with median income by education category\n",
    "nan_income = g33[g33['income'].isnull()].merge(_income.rename('edu_median'),\n",
    "                                               left_on = 'education',\n",
    "                                               right_index = True)\n",
    "nan_income['income'] = nan_income['edu_median']\n",
    "nan_income.drop('edu_median', axis=1, inplace= True)  # drops 'edu_median' column\n",
    "g33 = pd.concat([g33[g33['income'].notnull()],nan_income])"
   ]
  }
 ],
 "metadata": {
  "kernelspec": {
   "display_name": "Python 3",
   "language": "python",
   "name": "python3"
  },
  "language_info": {
   "codemirror_mode": {
    "name": "ipython",
    "version": 3
   },
   "file_extension": ".py",
   "mimetype": "text/x-python",
   "name": "python",
   "nbconvert_exporter": "python",
   "pygments_lexer": "ipython3",
   "version": "3.7.3"
  }
 },
 "nbformat": 4,
 "nbformat_minor": 2
}
